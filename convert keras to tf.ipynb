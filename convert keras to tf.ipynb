{
 "cells": [
  {
   "cell_type": "code",
   "execution_count": 1,
   "metadata": {},
   "outputs": [
    {
     "name": "stderr",
     "output_type": "stream",
     "text": [
      "Using TensorFlow backend.\n"
     ]
    }
   ],
   "source": [
    "from keras import backend as K\n",
    "from keras.models import load_model\n",
    "import tensorflow as tf\n",
    "from tensorflow.python.platform import gfile\n",
    "K.set_learning_phase(0)"
   ]
  },
  {
   "cell_type": "code",
   "execution_count": 42,
   "metadata": {},
   "outputs": [
    {
     "name": "stdout",
     "output_type": "stream",
     "text": [
      "[<tf.Tensor 'conv2d_19_2/Sigmoid:0' shape=(?, 128, 128, 1) dtype=float32>]\n",
      "[<tf.Tensor 'input_1_1:0' shape=(?, 128, 128, 3) dtype=float32>]\n"
     ]
    }
   ],
   "source": [
    "model = load_model('./detection4.h5')\n",
    "print(model.outputs)\n",
    "# [<tf.Tensor 'dense_2/Softmax:0' shape=(?, 10) dtype=float32>]\n",
    "print(model.inputs)"
   ]
  },
  {
   "cell_type": "code",
   "execution_count": 43,
   "metadata": {},
   "outputs": [
    {
     "name": "stdout",
     "output_type": "stream",
     "text": [
      "INFO:tensorflow:Froze 567 variables.\n",
      "INFO:tensorflow:Converted 567 variables to const ops.\n"
     ]
    }
   ],
   "source": [
    "def freeze_session(session, keep_var_names=None, output_names=None, clear_devices=True):\n",
    "    \"\"\"\n",
    "    Freezes the state of a session into a pruned computation graph.\n",
    "\n",
    "    Creates a new computation graph where variable nodes are replaced by\n",
    "    constants taking their current value in the session. The new graph will be\n",
    "    pruned so subgraphs that are not necessary to compute the requested\n",
    "    outputs are removed.\n",
    "    @param session The TensorFlow session to be frozen.\n",
    "    @param keep_var_names A list of variable names that should not be frozen,\n",
    "                          or None to freeze all the variables in the graph.\n",
    "    @param output_names Names of the relevant graph outputs.\n",
    "    @param clear_devices Remove the device directives from the graph for better portability.\n",
    "    @return The frozen graph definition.\n",
    "    \"\"\"\n",
    "    from tensorflow.python.framework.graph_util import convert_variables_to_constants\n",
    "    graph = session.graph\n",
    "    with graph.as_default():\n",
    "        freeze_var_names = list(set(v.op.name for v in tf.global_variables()).difference(keep_var_names or []))\n",
    "        output_names = output_names or []\n",
    "        output_names += [v.op.name for v in tf.global_variables()]\n",
    "        # Graph -> GraphDef ProtoBuf\n",
    "        input_graph_def = graph.as_graph_def()\n",
    "        if clear_devices:\n",
    "            for node in input_graph_def.node:\n",
    "                node.device = \"\"\n",
    "        frozen_graph = convert_variables_to_constants(session, input_graph_def,\n",
    "                                                      output_names, freeze_var_names)\n",
    "        return frozen_graph\n",
    "\n",
    "\n",
    "frozen_graph = freeze_session(K.get_session(),\n",
    "                              output_names=[out.op.name for out in model.outputs])"
   ]
  },
  {
   "cell_type": "code",
   "execution_count": 44,
   "metadata": {},
   "outputs": [
    {
     "data": {
      "text/plain": [
       "'model\\\\detection2.pb'"
      ]
     },
     "execution_count": 44,
     "metadata": {},
     "output_type": "execute_result"
    }
   ],
   "source": [
    "tf.train.write_graph(frozen_graph, \"model\", \"detection2.pb\", as_text=False)"
   ]
  },
  {
   "cell_type": "code",
   "execution_count": 45,
   "metadata": {},
   "outputs": [],
   "source": [
    "sess = K.get_session()"
   ]
  },
  {
   "cell_type": "code",
   "execution_count": 46,
   "metadata": {},
   "outputs": [],
   "source": [
    "f = gfile.GFile(\"./model/detection2.pb\", 'rb')\n",
    "graph_def = tf.GraphDef()\n",
    "# Parses a serialized binary message into the current message.\n",
    "graph_def.ParseFromString(f.read())\n",
    "f.close()\n",
    "\n",
    "sess.graph.as_default()\n",
    "# Import a serialized TensorFlow `GraphDef` protocol buffer\n",
    "# and place into the current default `Graph`.\n",
    "tf.import_graph_def(graph_def)"
   ]
  },
  {
   "cell_type": "code",
   "execution_count": 8,
   "metadata": {},
   "outputs": [],
   "source": [
    "import numpy as np\n",
    "import cv2"
   ]
  },
  {
   "cell_type": "code",
   "execution_count": 47,
   "metadata": {},
   "outputs": [],
   "source": [
    "x = np.zeros((2, 128, 128, 3), dtype=np.uint8)\n",
    "\n",
    "img1 = cv2.imread('./FLASH/Objects_007_flash.png')[:,:,:3]\n",
    "img1 = cv2.resize(img1, (128,128))\n",
    "img1 = cv2.cvtColor(img1,cv2.COLOR_BGR2RGB)\n",
    "x[0] = img1\n",
    "img = cv2.imread('./AMBIENT/Objects_007_ambient.png')[:,:,:3]\n",
    "img = cv2.resize(img, (128,128))\n",
    "img = cv2.cvtColor(img,cv2.COLOR_BGR2RGB)\n",
    "x[1] = img"
   ]
  },
  {
   "cell_type": "code",
   "execution_count": 51,
   "metadata": {},
   "outputs": [],
   "source": [
    "softmax_tensor = sess.graph.get_tensor_by_name('import/conv2d_19/Sigmoid:0')\n",
    "predictions = sess.run(softmax_tensor, {'import/input_2:0': x[:2]})"
   ]
  },
  {
   "cell_type": "code",
   "execution_count": 52,
   "metadata": {},
   "outputs": [],
   "source": [
    "b4 = (predictions>0.5).astype(np.uint8)*255\n",
    "\n",
    "a=b4[0]-b4[1]\n",
    "img2=np.zeros_like(img)\n",
    "img2[:,:,:3]=a\n",
    "img2[:,:,:1]=a\n",
    "img2[:,:,:2]=a"
   ]
  },
  {
   "cell_type": "code",
   "execution_count": 53,
   "metadata": {},
   "outputs": [],
   "source": [
    "from skimage.io import imshow"
   ]
  },
  {
   "cell_type": "code",
   "execution_count": 54,
   "metadata": {},
   "outputs": [
    {
     "data": {
      "text/plain": [
       "<matplotlib.image.AxesImage at 0x184d3b065c0>"
      ]
     },
     "execution_count": 54,
     "metadata": {},
     "output_type": "execute_result"
    },
    {
     "data": {
      "image/png": "[encoded data removed]",
      "text/plain": [
       "<Figure size 432x288 with 1 Axes>"
      ]
     },
     "metadata": {
      "needs_background": "light"
     },
     "output_type": "display_data"
    }
   ],
   "source": [
    "imshow(img2)"
   ]
  },
  {
   "cell_type": "code",
   "execution_count": 23,
   "metadata": {},
   "outputs": [],
   "source": [
    "n=model.predict(x[:2])"
   ]
  },
  {
   "cell_type": "code",
   "execution_count": 31,
   "metadata": {},
   "outputs": [],
   "source": [
    "b4 = (n>0.5).astype(np.uint8)*255\n",
    "\n",
    "a=b4[0]-b4[1]\n",
    "img2=np.zeros_like(img)\n",
    "img2[:,:,:3]=n[0]\n",
    "img2[:,:,:1]=n[0]\n",
    "img2[:,:,:2]=n[0]"
   ]
  },
  {
   "cell_type": "code",
   "execution_count": 32,
   "metadata": {},
   "outputs": [
    {
     "data": {
      "text/plain": [
       "<matplotlib.image.AxesImage at 0x184b6029f60>"
      ]
     },
     "execution_count": 32,
     "metadata": {},
     "output_type": "execute_result"
    },
    {
     "data": {
      "image/png": "[encoded data removed]",
      "text/plain": [
       "<Figure size 432x288 with 1 Axes>"
      ]
     },
     "metadata": {
      "needs_background": "light"
     },
     "output_type": "display_data"
    }
   ],
   "source": [
    "imshow(img2)"
   ]
  },
  {
   "cell_type": "code",
   "execution_count": 37,
   "metadata": {},
   "outputs": [],
   "source": [
    "m=load_model(\"./detection4.h5\")"
   ]
  },
  {
   "cell_type": "code",
   "execution_count": 38,
   "metadata": {},
   "outputs": [
    {
     "name": "stdout",
     "output_type": "stream",
     "text": [
      "input_1\n",
      "lambda_1\n",
      "conv2d_1\n",
      "dropout_1\n",
      "conv2d_2\n",
      "max_pooling2d_1\n",
      "conv2d_3\n",
      "dropout_2\n",
      "conv2d_4\n",
      "max_pooling2d_2\n",
      "conv2d_5\n",
      "dropout_3\n",
      "conv2d_6\n",
      "max_pooling2d_3\n",
      "conv2d_7\n",
      "dropout_4\n",
      "conv2d_8\n",
      "max_pooling2d_4\n",
      "conv2d_9\n",
      "dropout_5\n",
      "conv2d_10\n",
      "conv2d_transpose_1\n",
      "concatenate_1\n",
      "conv2d_11\n",
      "dropout_6\n",
      "conv2d_12\n",
      "conv2d_transpose_2\n",
      "concatenate_2\n",
      "conv2d_13\n",
      "dropout_7\n",
      "conv2d_14\n",
      "conv2d_transpose_3\n",
      "concatenate_3\n",
      "conv2d_15\n",
      "dropout_8\n",
      "conv2d_16\n",
      "conv2d_transpose_4\n",
      "concatenate_4\n",
      "conv2d_17\n",
      "dropout_9\n",
      "conv2d_18\n",
      "conv2d_19\n"
     ]
    }
   ],
   "source": [
    "for l in m.layers:\n",
    "    print(l.name)"
   ]
  },
  {
   "cell_type": "code",
   "execution_count": null,
   "metadata": {},
   "outputs": [],
   "source": []
  }
 ],
 "metadata": {
  "kernelspec": {
   "display_name": "Python 3",
   "language": "python",
   "name": "python3"
  },
  "language_info": {
   "codemirror_mode": {
    "name": "ipython",
    "version": 3
   },
   "file_extension": ".py",
   "mimetype": "text/x-python",
   "name": "python",
   "nbconvert_exporter": "python",
   "pygments_lexer": "ipython3",
   "version": "3.6.4"
  }
 },
 "nbformat": 4,
 "nbformat_minor": 4
}
