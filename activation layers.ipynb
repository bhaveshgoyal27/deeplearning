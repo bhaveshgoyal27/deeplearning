{
 "cells": [
  {
   "cell_type": "code",
   "execution_count": null,
   "metadata": {},
   "outputs": [],
   "source": [
    "import os\n",
    "import sys\n",
    "import random\n",
    "import warnings #\n",
    "import numpy as np\n",
    "from skimage.io import imread, imshow, imread_collection, concatenate_images\n",
    "from keras.models import Model, load_model\n",
    "from keras import backend as K\n",
    "import tensorflow as tf\n",
    "import cv2\n",
    "from keras import models\n",
    "import matplotlib.pyplot as plt"
   ]
  },
  {
   "cell_type": "code",
   "execution_count": null,
   "metadata": {},
   "outputs": [],
   "source": [
    "model4=load_model('detection4.h5')"
   ]
  },
  {
   "cell_type": "code",
   "execution_count": null,
   "metadata": {},
   "outputs": [],
   "source": [
    "x = np.zeros((1, 128, 128, IMG_CHANNELS), dtype=np.uint8)\n",
    "img1 = imread('./FLASH/Plants_002_flash.png')[:,:,:IMG_CHANNELS]\n",
    "img1 = resize(img1, (IMG_HEIGHT, IMG_WIDTH), mode='constant', preserve_range=True)\n",
    "x[0] = img1"
   ]
  },
  {
   "cell_type": "markdown",
   "metadata": {},
   "source": [
    "## IN THE FOLLOWING BLOCK MAKE THE FOLLOWING CHANGES\n",
    "### first_layer_activation = activations[39] DO THIS FOR 0 AND 39\n",
    "### a WILL TELL THE NUMBER OF FILTERS IN THAT LAYER\n",
    "### PUT THE LAST LINE IN THE LOOP FOR A ITERATIONS TO GET ALL THE FILTER RESULTS FOR THAT LAYER ie [0,:,:,i] i is the iteration variable"
   ]
  },
  {
   "cell_type": "code",
   "execution_count": null,
   "metadata": {},
   "outputs": [],
   "source": [
    "layer_outputs = [layer.output for layer in model4.layers[:41]][1:]\n",
    "activation_model = models.Model(inputs=model4.input, outputs=layer_outputs)\n",
    "activations = activation_model.predict(x)\n",
    "first_layer_activation = activations[39] #put 0 and 39\n",
    "a=first_layer_activation.shape[3]\n",
    "plt.matshow(first_layer_activation[0, :, :, 1])"
   ]
  },
  {
   "cell_type": "code",
   "execution_count": null,
   "metadata": {},
   "outputs": [],
   "source": [
    "plt.matshow(first_layer_activation[0, :, :, 2])"
   ]
  }
 ],
 "metadata": {
  "kernelspec": {
   "display_name": "Python 3",
   "language": "python",
   "name": "python3"
  },
  "language_info": {
   "codemirror_mode": {
    "name": "ipython",
    "version": 3
   },
   "file_extension": ".py",
   "mimetype": "text/x-python",
   "name": "python",
   "nbconvert_exporter": "python",
   "pygments_lexer": "ipython3",
   "version": "3.6.4"
  }
 },
 "nbformat": 4,
 "nbformat_minor": 4
}
